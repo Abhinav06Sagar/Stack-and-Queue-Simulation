{
  "nbformat": 4,
  "nbformat_minor": 0,
  "metadata": {
    "colab": {
      "provenance": [],
      "toc_visible": true
    },
    "kernelspec": {
      "name": "python3",
      "display_name": "Python 3"
    },
    "language_info": {
      "name": "python"
    }
  },
  "cells": [
    {
      "cell_type": "code",
      "execution_count": 4,
      "metadata": {
        "id": "txE5W5a26ALB"
      },
      "outputs": [],
      "source": [
        "class Stack:\n",
        "    def __init__(self):\n",
        "        self.items = []  # Initializing an empty list to store stack elements\n",
        "\n",
        "    def push(self, item):\n",
        "        \"\"\"Push an item onto the stack.\"\"\"\n",
        "        self.items.append(item)  # Adds item to the top of the stack\n",
        "\n",
        "    def pop(self):\n",
        "        \"\"\"Pop an item from the stack.\"\"\"\n",
        "        if not self.is_empty():\n",
        "            return self.items.pop()  # Removes and returns the top item\n",
        "        else:\n",
        "            return \"Stack is empty\"\n",
        "\n",
        "    def peek(self):\n",
        "        \"\"\"Return the top item of the stack.\"\"\"\n",
        "        if not self.is_empty():\n",
        "            return self.items[-1]  # Returns the top item without removing it\n",
        "        else:\n",
        "            return \"Stack is empty\"\n",
        "\n",
        "    def is_empty(self):\n",
        "        \"\"\"Check if the stack is empty.\"\"\"\n",
        "        return len(self.items) == 0  # Returns True if the stack is empty, else False\n",
        "\n",
        "    def size(self):\n",
        "        \"\"\"Return the size of the stack.\"\"\"\n",
        "        return len(self.items)  # Returns the number of elements in the stack\n"
      ]
    },
    {
      "cell_type": "code",
      "source": [
        "class Queue:\n",
        "    def __init__(self):\n",
        "        self.items = []  # Initializing an empty list to store queue elements\n",
        "\n",
        "    def enqueue(self, item):\n",
        "        \"\"\"Add an item to the queue.\"\"\"\n",
        "        self.items.append(item)  # Adds item to the end of the queue\n",
        "\n",
        "    def dequeue(self):\n",
        "        \"\"\"Remove an item from the queue.\"\"\"\n",
        "        if not self.is_empty():\n",
        "            return self.items.pop(0)  # Removes and returns the front item\n",
        "        else:\n",
        "            return \"Queue is empty\"\n",
        "\n",
        "    def front(self):\n",
        "        \"\"\"Return the front item of the queue.\"\"\"\n",
        "        if not self.is_empty():\n",
        "            return self.items[0]  # Returns the first item without removing it\n",
        "        else:\n",
        "            return \"Queue is empty\"\n",
        "\n",
        "    def is_empty(self):\n",
        "        \"\"\"Check if the queue is empty.\"\"\"\n",
        "        return len(self.items) == 0  # Returns True if the queue is empty, else False\n",
        "\n",
        "    def size(self):\n",
        "        \"\"\"Return the size of the queue.\"\"\"\n",
        "        return len(self.items)  # Returns the number of elements in the queue\n"
      ],
      "metadata": {
        "id": "8bGVzpic8DJN"
      },
      "execution_count": null,
      "outputs": []
    },
    {
      "cell_type": "code",
      "source": [
        "# Test Stack\n",
        "stack = Stack()\n",
        "stack.push(10)\n",
        "stack.push(20)\n",
        "stack.push(30)\n",
        "print(\"Stack:\", stack.items)  # Prints current stack\n",
        "print(\"Pop:\", stack.pop())    # Removes and returns the top item\n",
        "print(\"Top item:\", stack.peek())  # Shows the top item\n",
        "print(\"Is Stack empty?\", stack.is_empty())  # Checks if the stack is empty\n",
        "\n",
        "# Test Queue\n",
        "queue = Queue()\n",
        "queue.enqueue(10)\n",
        "queue.enqueue(20)\n",
        "queue.enqueue(30)\n",
        "print(\"Queue:\", queue.items)  # Prints current queue\n",
        "print(\"Dequeue:\", queue.dequeue())  # Removes and returns the front item\n",
        "print(\"Front item:\", queue.front())  # Shows the front item\n",
        "print(\"Is Queue empty?\", queue.is_empty())  # Checks if the queue is empty\n"
      ],
      "metadata": {
        "colab": {
          "base_uri": "https://localhost:8080/"
        },
        "id": "lOtyhL518MuX",
        "outputId": "0a988f6a-3682-4567-e507-22f23540b7c3"
      },
      "execution_count": 5,
      "outputs": [
        {
          "output_type": "stream",
          "name": "stdout",
          "text": [
            "Stack: [10, 20, 30]\n",
            "Pop: 30\n",
            "Top item: 20\n",
            "Is Stack empty? False\n",
            "Queue: [10, 20, 30]\n",
            "Dequeue: 10\n",
            "Front item: 20\n",
            "Is Queue empty? False\n"
          ]
        }
      ]
    },
    {
      "cell_type": "markdown",
      "source": [
        "\n",
        "## Introduction\n",
        "In this project, I implemented the **Stack** and **Queue** data structures in Python. These are fundamental data structures in computer science that help organize and manage data in different ways.\n",
        "\n",
        "- A **Stack** follows the **Last In, First Out (LIFO)** principle.\n",
        "- A **Queue** follows the **First In, First Out (FIFO)** principle.\n",
        "\n",
        "## Stack\n",
        "A **Stack** is a linear data structure that follows the **LIFO** principle.\n",
        "\n",
        "### Operations:\n",
        "1. **Push(item)** - Adds an item to the top of the stack.\n",
        "2. **Pop()** - Removes and returns the top item.\n",
        "3. **Peek()** - Returns the top item without removing it.\n",
        "4. **Is_Empty()** - Checks if the stack is empty.\n",
        "5. **Size()** - Returns the stack size.\n",
        "\n",
        "### Real-world Applications:\n",
        "- **Undo/Redo functionality** in software.\n",
        "- **Function call management** in programming.\n",
        "- **Expression evaluation** in compilers.\n",
        "\n",
        "## Queue\n",
        "A **Queue** follows the **FIFO** principle.\n",
        "\n",
        "### Operations:\n",
        "1. **Enqueue(item)** - Adds an item to the end of the queue.\n",
        "2. **Dequeue()** - Removes and returns the front item.\n",
        "3. **Front()** - Returns the front item.\n",
        "4. **Is_Empty()** - Checks if the queue is empty.\n",
        "5. **Size()** - Returns the queue size.\n",
        "\n",
        "### Real-world Applications:\n",
        "- **Task scheduling** in operating systems.\n",
        "- **Print queues** for document printing.\n",
        "- **Breadth-First Search (BFS)** in graph traversal.\n",
        "\n",
        "## Example Usage:\n",
        "\n",
        "```python\n",
        "# Stack example\n",
        "stack = Stack()\n",
        "stack.push(10)\n",
        "stack.push(20)\n",
        "print(stack.pop())  # Outputs: 20\n",
        "print(stack.peek())  # Outputs: 10\n",
        "\n",
        "# Queue example\n",
        "queue = Queue()\n",
        "queue.enqueue(10)\n",
        "queue.enqueue(20)\n",
        "print(queue.dequeue())  # Outputs: 10\n",
        "print(queue.front())  # Outputs: 20\n"
      ],
      "metadata": {
        "id": "aglt-4M5KUaQ"
      }
    }
  ]
}